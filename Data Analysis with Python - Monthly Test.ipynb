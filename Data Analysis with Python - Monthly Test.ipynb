{
 "cells": [
  {
   "cell_type": "markdown",
   "id": "485f0f6c",
   "metadata": {},
   "source": [
    "# Data Analysis with Python - Monthly Test 1- <span style = \"color:#263DB2\">EDURE</span>"
   ]
  },
  {
   "cell_type": "markdown",
   "id": "671e0037",
   "metadata": {},
   "source": [
    "***"
   ]
  },
  {
   "cell_type": "markdown",
   "id": "626e9c61",
   "metadata": {},
   "source": [
    "For this Assesment, let's use the famous \"Titanic\" dataset, which contains information about passengers aboard the Titanic. It is a widely used dataset for data analysis and machine learning tasks."
   ]
  },
  {
   "cell_type": "markdown",
   "id": "1500e1e6",
   "metadata": {},
   "source": [
    "<table>\n",
    "  <thead>\n",
    "    <tr style=\"text-align: center;\">\n",
    "      <th>Variable</th>\n",
    "      <th>Definition</th>\n",
    "      <th>Key</th>\n",
    "    </tr>\n",
    "  </thead>\n",
    "  <tbody>\n",
    "    <tr>\n",
    "      <td>survival</td>\n",
    "      <td>Survival</td>\n",
    "      <td>0 = No, 1 = Yes</td>\n",
    "    </tr>\n",
    "    <tr>\n",
    "      <td>pclass</td>\n",
    "      <td>Ticket class</td>\n",
    "      <td>1 = 1st, 2 = 2nd, 3 = 3rd</td>\n",
    "    </tr>\n",
    "    <tr>\n",
    "      <td>sex</td>\n",
    "      <td>Sex</td>\n",
    "      <td></td>\n",
    "    </tr>\n",
    "    <tr>\n",
    "      <td>age</td>\n",
    "      <td>Age in years</td>\n",
    "      <td></td>\n",
    "    </tr>\n",
    "    <tr>\n",
    "      <td>sibsp</td>\n",
    "      <td># of siblings / spouses aboard the Titanic</td>\n",
    "      <td></td>\n",
    "    </tr>\n",
    "    <tr>\n",
    "      <td>parch</td>\n",
    "      <td># of parents / children aboard the Titanic</td>\n",
    "      <td></td>\n",
    "    </tr>\n",
    "    <tr>\n",
    "      <td>ticket</td>\n",
    "      <td>Ticket number</td>\n",
    "      <td></td>\n",
    "    </tr>\n",
    "    <tr>\n",
    "      <td>fare</td>\n",
    "      <td>Passenger fare</td>\n",
    "      <td></td>\n",
    "    </tr>\n",
    "    <tr>\n",
    "      <td>cabin</td>\n",
    "      <td>Cabin number</td>\n",
    "      <td></td>\n",
    "    </tr>\n",
    "    <tr>\n",
    "      <td>embarked</td>\n",
    "      <td>Port of Embarkation</td>\n",
    "      <td>C = Cherbourg, Q = Queenstown, S = Southampton</td>\n",
    "    </tr>\n",
    "  </tbody>\n",
    "</table>\n"
   ]
  },
  {
   "cell_type": "markdown",
   "id": "1c984dc2",
   "metadata": {},
   "source": [
    "Rules:\n",
    "\n",
    "* This is an individual test, and you should attempt it on your own.\n",
    "* Use Python, specifically pandas, matplotlib, and seaborn libraries, to answer the questions.\n",
    "* You can refer to the official documentation and online resources for help during the test.\n",
    "* Use Jupyter notebook to write your code and provide explanations or interpretations where required.\n",
    "* For each question, write the necessary code to find the answer and provide the output or visualization as requested.\n",
    "* Make sure your code is well-structured, commented, and easy to understand.\n",
    "* Avoid using external libraries or packages that are not specified in the test.\n",
    "* Submit the completed Jupyter notebook file once you have finished answering all the questions.\n",
    "* The test is timed, so manage your time wisely to complete all the questions within the allocated time.\n",
    "* Remember to save your progress regularly to avoid losing any work.\n",
    "\n",
    "\n",
    "Note: The objective of this test is to assess your data analysis skills, so focus on implementing the required tasks using pandas, matplotlib, and seaborn efficiently. Good luck with the test, and enjoy the process of exploring and analyzing the Titanic dataset!"
   ]
  },
  {
   "cell_type": "markdown",
   "id": "c202d08f",
   "metadata": {},
   "source": [
    "***"
   ]
  },
  {
   "cell_type": "markdown",
   "id": "d5ecc2fc",
   "metadata": {},
   "source": [
    "You can download the dataset from here: <a href = \"https://github.com/vishnuvizs/edure/blob/main/titanic.csv\"><span style = \"color:blue;font-weight:bold;\"> Titanic Dataset</span></a>"
   ]
  },
  {
   "cell_type": "markdown",
   "id": "729a1dd1",
   "metadata": {},
   "source": [
    "## QUESTIONS"
   ]
  },
  {
   "cell_type": "markdown",
   "id": "594a66f5",
   "metadata": {},
   "source": [
    "### 1. What is the overall survival rate of passengers aboard the Titanic?"
   ]
  },
  {
   "cell_type": "code",
   "execution_count": null,
   "id": "e43d52a3",
   "metadata": {},
   "outputs": [],
   "source": []
  },
  {
   "cell_type": "markdown",
   "id": "6e433b52",
   "metadata": {},
   "source": [
    "### 2. What was the distribution of passenger ages? Plot a histogram."
   ]
  },
  {
   "cell_type": "code",
   "execution_count": null,
   "id": "1253d7e4",
   "metadata": {},
   "outputs": [],
   "source": []
  },
  {
   "cell_type": "markdown",
   "id": "4df7e851",
   "metadata": {},
   "source": [
    "### 3. Did the passenger class have an impact on survival rates? Visualize the relationship between passenger class and survival."
   ]
  },
  {
   "cell_type": "code",
   "execution_count": null,
   "id": "948ad53f",
   "metadata": {},
   "outputs": [],
   "source": []
  },
  {
   "cell_type": "markdown",
   "id": "21c6d006",
   "metadata": {},
   "source": [
    "### 4. How many passengers were traveling with siblings/spouses? Plot a bar chart."
   ]
  },
  {
   "cell_type": "code",
   "execution_count": null,
   "id": "f1435114",
   "metadata": {},
   "outputs": [],
   "source": []
  },
  {
   "cell_type": "markdown",
   "id": "080beb7b",
   "metadata": {},
   "source": [
    "### 5. What was the average fare paid by passengers in each passenger class? Present the results in a bar chart."
   ]
  },
  {
   "cell_type": "code",
   "execution_count": null,
   "id": "dc32fd42",
   "metadata": {},
   "outputs": [],
   "source": []
  },
  {
   "cell_type": "markdown",
   "id": "1c6a3dfa",
   "metadata": {},
   "source": [
    "### 6. How many passengers embarked from each port? Create a pie chart to show the distribution."
   ]
  },
  {
   "cell_type": "code",
   "execution_count": null,
   "id": "71002ea4",
   "metadata": {},
   "outputs": [],
   "source": []
  },
  {
   "cell_type": "markdown",
   "id": "dc5ccc02",
   "metadata": {},
   "source": [
    "### 7. Was there a significant difference in survival rates between males and females? Compare and visualize the survival rates by gender."
   ]
  },
  {
   "cell_type": "code",
   "execution_count": null,
   "id": "47456a15",
   "metadata": {},
   "outputs": [],
   "source": []
  },
  {
   "cell_type": "markdown",
   "id": "094cb8a5",
   "metadata": {},
   "source": [
    "### 8. Did the presence of parents/children affect the survival rates? Analyze and plot the survival rates of passengers with and without family members."
   ]
  },
  {
   "cell_type": "code",
   "execution_count": null,
   "id": "747a6a8d",
   "metadata": {},
   "outputs": [],
   "source": []
  },
  {
   "cell_type": "markdown",
   "id": "f59e826e",
   "metadata": {},
   "source": [
    "### 9. Were younger passengers more likely to survive than older passengers? Investigate the relationship between age and survival using a box plot."
   ]
  },
  {
   "cell_type": "code",
   "execution_count": null,
   "id": "dc6c5a18",
   "metadata": {},
   "outputs": [],
   "source": []
  },
  {
   "cell_type": "markdown",
   "id": "effd9c0c",
   "metadata": {},
   "source": [
    "### 10. Can we find any correlations between passenger attributes, such as age, fare, and survival? Create a correlation matrix and visualize it using a heatmap."
   ]
  },
  {
   "cell_type": "code",
   "execution_count": null,
   "id": "39d5e455",
   "metadata": {},
   "outputs": [],
   "source": []
  },
  {
   "cell_type": "markdown",
   "id": "f7e09210",
   "metadata": {},
   "source": [
    "***"
   ]
  }
 ],
 "metadata": {
  "kernelspec": {
   "display_name": "Python 3 (ipykernel)",
   "language": "python",
   "name": "python3"
  },
  "language_info": {
   "codemirror_mode": {
    "name": "ipython",
    "version": 3
   },
   "file_extension": ".py",
   "mimetype": "text/x-python",
   "name": "python",
   "nbconvert_exporter": "python",
   "pygments_lexer": "ipython3",
   "version": "3.10.9"
  }
 },
 "nbformat": 4,
 "nbformat_minor": 5
}
